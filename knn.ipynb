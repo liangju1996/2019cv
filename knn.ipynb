{
 "cells": [
  {
   "cell_type": "markdown",
   "metadata": {},
   "source": [
    "# Image classification--KNN"
   ]
  },
  {
   "cell_type": "markdown",
   "metadata": {
    "collapsed": true
   },
   "source": [
    "## 第1步：数据预处理\n",
    "### 导入库"
   ]
  },
  {
   "cell_type": "code",
   "execution_count": null,
   "metadata": {
    "collapsed": true
   },
   "outputs": [],
   "source": [
    "import numpy as np\n",
    "import pickle\n",
    "import os"
   ]
  },
  {
   "cell_type": "markdown",
   "metadata": {},
   "source": [
    "### 加载数据"
   ]
  },
  {
   "cell_type": "code",
   "execution_count": null,
   "metadata": {
    "collapsed": true
   },
   "outputs": [],
   "source": [
    "# 返回两个数组X-->10000*32*32*3; Y-->10000*1\n",
    "def load_CIFAR_batch(file):\n",
    "    \"\"\" load single batch of cifar \"\"\"\n",
    "    with open(file, 'rb') as f:\n",
    "        datadict = pickle.load(f, encoding='latin1')# 字典\n",
    "        X = datadict['data'] #数组:10000*3072\n",
    "        # print('X', X, X.shape)\n",
    "        Y = datadict['labels'] #列表:10000\n",
    "        X = X.reshape(10000, 3, 32, 32).transpose(0, 2, 3, 1).astype(\"float\")\n",
    "        # 原来的顺序是0,1,2,3；现在是0,2,3,1；相当于把1-->维度等于三的那一列放到最后;使10000*32*3*32变成10000*32*32*3\n",
    "        Y = np.array(Y)\n",
    "        # print('x',X,X.shape,'y', Y.shape)\n",
    "    return X, Y\n",
    "\n",
    "# 遍历每一个文件,返回处理好的数组\n",
    "def load_CIFAR10(ROOT):\n",
    "    \"\"\" load all of cifar \"\"\"\n",
    "    xs = []\n",
    "    ys = []\n",
    "    # 看一下这两个的数据类型\n",
    "    # 根据cifar10数据集的特点 将data_batch_1-5\n",
    "    for b in range(1, 6):# 前闭后开\n",
    "        f = os.path.join(ROOT, 'data_batch_%d' % (b, ))\n",
    "        X, Y = load_CIFAR_batch(f)\n",
    "        xs.append(X)\n",
    "        ys.append(Y)\n",
    "    # 把batch1-5的所有数据加载到Xtr和Ytr中\n",
    "    Xtr = np.concatenate(xs)  # 拼接, 默认axis=0-->拼接到原数组的下方变成50000*32*32*3==>使第一维增加;若axis=1-->使第二维增加....以此类推\n",
    "    Ytr = np.concatenate(ys)  # 一维的,只能在后面拼.变成50000\n",
    "    del X, Y\n",
    "    Xte, Yte = load_CIFAR_batch(os.path.join(ROOT, 'test_batch'))\n",
    "    return Xtr, Ytr, Xte, Yte"
   ]
  },
  {
   "cell_type": "markdown",
   "metadata": {},
   "source": [
    "### 划分训练集,验证集和测试集"
   ]
  },
  {
   "cell_type": "code",
   "execution_count": null,
   "metadata": {
    "collapsed": true
   },
   "outputs": [],
   "source": [
    "Xtr, Ytr, Xte, Yte = load_CIFAR10('/home/videostudy/liangju/project/code_practice/data/cifar-10-batches-py')  # a magic function we provide"
   ]
  },
  {
   "cell_type": "code",
   "execution_count": null,
   "metadata": {
    "collapsed": true
   },
   "outputs": [],
   "source": [
    "#### Xtr  (50000, 32, 32, 3)\n",
    "Ytr  (50000,)\n",
    "Xte  (10000, 32, 32, 3)\n",
    "Yte  (10000,)\n",
    "# Xtr(50000*32*32*3)是训练集中所有的图像,Ytr(50000*1)是图像对应的标签(0-9)"
   ]
  },
  {
   "cell_type": "code",
   "execution_count": null,
   "metadata": {
    "collapsed": true
   },
   "outputs": [],
   "source": [
    "###  将每一张图片变成行向量"
   ]
  },
  {
   "cell_type": "code",
   "execution_count": null,
   "metadata": {
    "collapsed": true
   },
   "outputs": [],
   "source": [
    "\n",
    "# 将每一张图片变成行向量\n",
    "Xtr_rows = Xtr.reshape(Xtr.shape[0], 32 * 32 * 3)  # Xtr_rows becomes 50000 x 3072\n",
    "Xte_rows = Xte.reshape(Xte.shape[0], 32 * 32 * 3)  # Xte_rows becomes 10000 x 3072\n",
    "\n",
    "\n",
    "# assume we have Xtr_rows, Ytr, Xte_rows, Yte as before\n",
    "# recall Xtr_rows is 50,000 x 3072 matrix\n",
    "# 拆出验证集计算准确率0-1000验证集,,1000-50000训练集,,50000-60000测试集\n",
    "# 把训练集分成训练集和验证集。使用验证集来对所有超参数调优。最后只在测试集上跑一次并报告结果。\n",
    "Xval_rows = Xtr_rows[:1000, :]  # take first 1000 for validation\n",
    "Yval = Ytr[:1000]\n",
    "Xtr_rows = Xtr_rows[1000:, :]  # keep last 49,000 for train\n",
    "Ytr = Ytr[1000:]"
   ]
  },
  {
   "cell_type": "markdown",
   "metadata": {},
   "source": [
    "### 定义一个实现KNN的类"
   ]
  },
  {
   "cell_type": "code",
   "execution_count": null,
   "metadata": {
    "collapsed": true
   },
   "outputs": [],
   "source": [
    "class KNearestNeighbor(object):\n",
    "    def __init__(self):\n",
    "        pass\n",
    "\n",
    "    def train(self, X, y):\n",
    "        \"\"\" X is N x D where each row is an example. Y is 1-dimension of size N \"\"\"\n",
    "        # the nearest neighbor classifier simply remembers all the training data\n",
    "        self.Xtr = X\n",
    "        self.ytr = y\n",
    "\n",
    "    def predict(self, X, k=1):\n",
    "        \"\"\" X is N x D where each row is an example we wish to predict label for \"\"\"\n",
    "        \"\"\" k is the number of nearest neighbors that vote for the predicted labels.\"\"\"\n",
    "        num_val = X.shape[0] # 使用validation\n",
    "\n",
    "        # lets make sure that the output type matches the input type\n",
    "        Ypred = np.zeros(num_val, dtype=self.ytr.dtype)\n",
    "        # print('num_test', num_test)\n",
    "        # print('type of num_test',type(num_test))\n",
    "\n",
    "        # loop over all test rows\n",
    "        for i in range(num_val):\n",
    "            # using the L1 distance (sum of absolute value differences)\n",
    "            distances1 = np.sum(np.abs(self.Xtr - X[i, :]), axis=1)\n",
    "            # L2 distance:\n",
    "            # distances2 = np.sqrt(np.sum(np.square(self.Xtr - X[i, :]), axis=1))\n",
    "            # argsort()函数是将x中的元素从小到大排列，提取其对应的index(索引)，然后输出到y\n",
    "            indexes = np.argsort(distances1)\n",
    "            Yclosest = self.ytr[indexes[:k]]\n",
    "            # np.bincount()返回一个数组,这个数组比他的参数的最大值大1,返回的数组是0-max每个数的频率\n",
    "            cnt = np.bincount(Yclosest)\n",
    "            # 取出cnt中元素最大值所对应的索引\n",
    "            Ypred[i] = np.argmax(cnt)\n",
    "            print(\"aaaaa\")\n",
    "\n",
    "        return Ypred\n"
   ]
  },
  {
   "cell_type": "markdown",
   "metadata": {},
   "source": [
    "## 第2步:训练过程--寻找最优的k值"
   ]
  },
  {
   "cell_type": "code",
   "execution_count": null,
   "metadata": {
    "collapsed": true
   },
   "outputs": [],
   "source": [
    "# find hyperparameters that work best on the validation set\n",
    "# 尝试k值[1, 3, 5, 10, 20, 50, 100]测试哪一个的准确率最高\n",
    "validation_accuracies = []\n",
    "for k in [1, 3, 5, 10, 20, 50, 100]:\n",
    "    # use a particular value of k and evaluation on validation data\n",
    "    knn = KNearestNeighbor()\n",
    "    knn.train(Xtr_rows, Ytr)\n",
    "    # here we assume a modified NearestNeighbor class that can take a k as input\n",
    "    Yval_predict = knn.predict(Xval_rows, k=k)\n",
    "    acc = np.mean(Yval_predict == Yval)\n",
    "    print('accuracy: %f' % (acc,))\n",
    "\n",
    "    # keep track of what works on the validation set\n",
    "    validation_accuracies.append((k, acc))\n",
    "\n",
    "# 使用validation，分析出哪个k值表现最好，然后用这个k值来跑真正的测试集，并作出对算法的评价。\n",
    "print(validation_accuracies)"
   ]
  },
  {
   "cell_type": "markdown",
   "metadata": {},
   "source": [
    "## 第3步:测试过程--评价模型"
   ]
  },
  {
   "cell_type": "code",
   "execution_count": null,
   "metadata": {
    "collapsed": true
   },
   "outputs": [],
   "source": [
    "# 测试集test\n",
    "knn = kNearestNeighbor() # create a Nearest Neighbor classifier class\n",
    "knn.train(Xtr_rows, Ytr) # train the classifier on the training images and labels\n",
    "Yte_predict = knn.predict(Xte_rows, 7) # predict labels on the test images\n",
    "# and now print the classification accuracy, which is the average number\n",
    "# of examples that are correctly predicted (i.e. label matches)\n",
    "print ('accuracy: %f' % (np.mean(Yte_predict == Yte)))\n"
   ]
  }
 ],
 "metadata": {
  "anaconda-cloud": {},
  "kernelspec": {
   "display_name": "python cv",
   "language": "python",
   "name": "cv"
  },
  "language_info": {
   "codemirror_mode": {
    "name": "ipython",
    "version": 3
   },
   "file_extension": ".py",
   "mimetype": "text/x-python",
   "name": "python",
   "nbconvert_exporter": "python",
   "pygments_lexer": "ipython3",
   "version": "3.7.4"
  }
 },
 "nbformat": 4,
 "nbformat_minor": 1
}
