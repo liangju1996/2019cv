{
 "cells": [
  {
   "cell_type": "code",
   "execution_count": 1,
   "metadata": {
    "collapsed": false
   },
   "outputs": [
    {
     "name": "stdout",
     "output_type": "stream",
     "text": [
      "torch.Size([8, 8])\n",
      "torch.Size([1, 1, 8, 8])\n",
      "torch.Size([8, 8])\n",
      "tensor([], size=(0, 1, 8, 8))\n"
     ]
    }
   ],
   "source": [
    "# 测试ｖｉｅｗ（）函数\n",
    "import torch\n",
    "from torch import nn\n",
    "X = torch.rand(8, 8)\n",
    "print(X.shape)\n",
    "X = X.view((1, 1) + X.shape)\n",
    "print(X.shape)\n",
    "print(X.view(X.shape[2:]).shape)\n",
    "print(X[2:])"
   ]
  },
  {
   "cell_type": "code",
   "execution_count": null,
   "metadata": {
    "collapsed": true
   },
   "outputs": [],
   "source": [
    "# PyTorch默认使用从0开始的GPU，如果GPU0正在运行程序，需要指定其他GPU。\n",
    "# 有如下两种方法来指定需要使用的GPU。\n",
    "# 1.1.1 直接终端中设定：\n",
    "CUDA_VISIBLE_DEVICES=1 python my_script.py\n",
    "# 1.2 python代码中设定：\n",
    "import os\n",
    "os.environ[\"CUDA_VISIBLE_DEVICES\"] = \"2\"\n",
    "# 1.2.1使用函数set_device\n",
    "import torch\n",
    "torch.cuda.set_device(id)"
   ]
  },
  {
   "cell_type": "code",
   "execution_count": 12,
   "metadata": {
    "collapsed": false,
    "scrolled": false
   },
   "outputs": [
    {
     "name": "stdout",
     "output_type": "stream",
     "text": [
      "1573042800.7434857\n",
      "time.struct_time(tm_year=2019, tm_mon=11, tm_mday=6, tm_hour=20, tm_min=20, tm_sec=0, tm_wday=2, tm_yday=310, tm_isdst=0)\n",
      "Wed Nov  6 20:20:00 2019\n"
     ]
    }
   ],
   "source": [
    "# Python time模块包含了许多与时间有关的函数 time() 返回当前时间的时间戳（19701.1日０时０秒后经过的浮点秒数）。\n",
    "import time\n",
    "\n",
    "print (time.time())\n",
    "print (time.localtime( time.time() ))\n",
    "print (time.asctime( time.localtime(time.time()) ))"
   ]
  },
  {
   "cell_type": "code",
   "execution_count": null,
   "metadata": {
    "collapsed": true
   },
   "outputs": [],
   "source": []
  }
 ],
 "metadata": {
  "anaconda-cloud": {},
  "kernelspec": {
   "display_name": "Python [anaconda3]",
   "language": "python",
   "name": "Python [anaconda3]"
  },
  "language_info": {
   "codemirror_mode": {
    "name": "ipython",
    "version": 3
   },
   "file_extension": ".py",
   "mimetype": "text/x-python",
   "name": "python",
   "nbconvert_exporter": "python",
   "pygments_lexer": "ipython3",
   "version": "3.5.6"
  }
 },
 "nbformat": 4,
 "nbformat_minor": 0
}
